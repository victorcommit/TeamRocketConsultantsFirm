{
 "cells": [
  {
   "cell_type": "code",
   "execution_count": null,
   "metadata": {},
   "outputs": [],
   "source": [
    "# Import Dependences \n",
    "import numpy as np \n",
    "import pandas as pd\n",
    "import random\n",
    "import matplotlib.pyplot as plt\n",
    "import seaborn as sns\n",
    "%matplotlib inline\n",
    "from sklearn.model_selection import train_test_split\n",
    "from sklearn.linear_model import LinearRegression\n",
    "from sklearn.tree import DecisionTreeClassifier\n",
    "from sklearn.decomposition import PCA\n",
    "from sklearn.preprocessing import StandardScaler\n",
    "from sklearn.discriminant_analysis import LinearDiscriminantAnalysis\n",
    "from collections import defaultdict"
   ]
  },
  {
   "cell_type": "code",
   "execution_count": null,
   "metadata": {},
   "outputs": [],
   "source": [
    "# Import Pokemon CSV data\n",
    "pokemon = pd.read_csv(\"pokemon.csv\")\n",
    "pokemon.head()"
   ]
  },
  {
   "cell_type": "code",
   "execution_count": null,
   "metadata": {},
   "outputs": [],
   "source": [
    "# Import Pokemon Combats CSV data\n",
    "combats = pd.read_csv(\"combats.csv\")\n",
    "combats.head(5)"
   ]
  },
  {
   "cell_type": "code",
   "execution_count": null,
   "metadata": {},
   "outputs": [],
   "source": [
    "# Rename column with symbol \n",
    "pokemon = pokemon.rename(index=str, columns={\"#\": \"Pokemon Number\"})\n",
    "pokemon.columns"
   ]
  },
  {
   "cell_type": "code",
   "execution_count": null,
   "metadata": {},
   "outputs": [],
   "source": [
    "# pokemon = pokemon.set_index(\"Pokemon Number\")\n",
    "# pokemon"
   ]
  },
  {
   "cell_type": "code",
   "execution_count": null,
   "metadata": {},
   "outputs": [],
   "source": [
    "# Display Combats Table with Names\n",
    "combats.head()"
   ]
  },
  {
   "cell_type": "code",
   "execution_count": null,
   "metadata": {},
   "outputs": [],
   "source": [
    "# What are the Dimenstions of the Pokemon and Combat Data Series\n",
    "print(\"Dimenstions of Pokemon: \" + str(pokemon.shape))\n",
    "print(\"Dimenstions of Combat: \" + str(combats.shape))"
   ]
  },
  {
   "cell_type": "code",
   "execution_count": null,
   "metadata": {},
   "outputs": [],
   "source": [
    "# Identify Any Null fields for Pokemon Data\n",
    "pokemon.isnull().sum()"
   ]
  },
  {
   "cell_type": "code",
   "execution_count": null,
   "metadata": {},
   "outputs": [],
   "source": [
    "pokemon.info()"
   ]
  },
  {
   "cell_type": "code",
   "execution_count": null,
   "metadata": {},
   "outputs": [],
   "source": [
    "# Identify Any Null fields for Combat Data\n",
    "combats.isnull().sum()"
   ]
  },
  {
   "cell_type": "code",
   "execution_count": null,
   "metadata": {},
   "outputs": [],
   "source": [
    "combats.info()"
   ]
  },
  {
   "cell_type": "code",
   "execution_count": null,
   "metadata": {},
   "outputs": [],
   "source": [
    "# What is the missing Pokemon's line? \n",
    "print(pokemon[pokemon[\"Name\"].isnull ()])"
   ]
  },
  {
   "cell_type": "code",
   "execution_count": null,
   "metadata": {},
   "outputs": [],
   "source": [
    "#Check the name of the pokemon number before and after\n",
    "print(\"The pokemon before the missing pokemon is \" + pokemon['Name'][61])\n",
    "print('------------------')\n",
    "print(\"The pokemon after the missing pokemon is \" + pokemon['Name'][63])"
   ]
  },
  {
   "cell_type": "code",
   "execution_count": null,
   "metadata": {},
   "outputs": [],
   "source": [
    "#Update the name of the missing Pokemon\n",
    "pokemon['Name'][63] = \"Primeape\""
   ]
  },
  {
   "cell_type": "code",
   "execution_count": null,
   "metadata": {},
   "outputs": [],
   "source": [
    "# Confirm count of null fields in the pokemon data set\n",
    "pokemon.isnull().sum()"
   ]
  },
  {
   "cell_type": "code",
   "execution_count": null,
   "metadata": {},
   "outputs": [],
   "source": [
    "# What is the name of the missing Pokemon\n",
    "print(\" The missing pokemon was \"+ pokemon[\"Name\"][63]+ \", The next evolution of \"+ pokemon[\"Name\"][62])"
   ]
  },
  {
   "cell_type": "code",
   "execution_count": null,
   "metadata": {},
   "outputs": [],
   "source": [
    "# How many unique Type 1 Pokemon are there in the dataset\n",
    "print (\"There are {} Types.\".format(len(pokemon[\"Type 1\"].drop_duplicates())))\n",
    "list(pokemon[\"Type 1\"].drop_duplicates())"
   ]
  },
  {
   "cell_type": "code",
   "execution_count": null,
   "metadata": {},
   "outputs": [],
   "source": [
    "# How many Type 1 pokemon are in the dataset\n",
    "print(pokemon['Type 1'].value_counts(dropna =False))"
   ]
  },
  {
   "cell_type": "code",
   "execution_count": null,
   "metadata": {},
   "outputs": [],
   "source": [
    "#poke_count = pokemon['Type 1'].value_counts(dropna =False))"
   ]
  },
  {
   "cell_type": "code",
   "execution_count": null,
   "metadata": {},
   "outputs": [],
   "source": [
    "ax = sns.countplot(x=\"Type 1\", hue=\"Legendary\", data=pokemon)\n",
    "plt.xticks(rotation= 90)\n",
    "plt.xlabel('Type 1')\n",
    "plt.ylabel('Total ')\n",
    "plt.title(\"Total Pokemon by Type 1\")"
   ]
  },
  {
   "cell_type": "code",
   "execution_count": null,
   "metadata": {},
   "outputs": [],
   "source": [
    "ax = sns.countplot(x=\"Type 2\", hue=\"Legendary\", data=pokemon)\n",
    "plt.xticks(rotation= 90)\n",
    "plt.xlabel('Type 2')\n",
    "plt.ylabel('Total ')\n",
    "plt.title(\"Total Pokemon by Type 2\")"
   ]
  },
  {
   "cell_type": "code",
   "execution_count": null,
   "metadata": {},
   "outputs": [],
   "source": [
    "# How many unique Type 1 and Type 2 combinations in the dataset\n",
    "type_cols = [\"Type 1\", \"Type 2\"]\n",
    "print (\"There are {} unique type-combinations.\".format(len(pokemon[type_cols].drop_duplicates())))"
   ]
  },
  {
   "cell_type": "code",
   "execution_count": null,
   "metadata": {},
   "outputs": [],
   "source": [
    "corr_data = pokemon.drop(columns=['Pokemon Number'])\n",
    "corr_data\n",
    "#pokemon.describe()"
   ]
  },
  {
   "cell_type": "code",
   "execution_count": null,
   "metadata": {},
   "outputs": [],
   "source": [
    "corr_data.corr()"
   ]
  },
  {
   "cell_type": "code",
   "execution_count": null,
   "metadata": {},
   "outputs": [],
   "source": [
    "#correlation map\n",
    "corr = corr_data.corr()\n",
    "ax = sns.heatmap(\n",
    "    corr, \n",
    "    vmin=-1, vmax=1, center=0,\n",
    "    cmap=sns.diverging_palette(20, 220, n=200),\n",
    "    square=True\n",
    ")\n",
    "ax.set_xticklabels(\n",
    "    ax.get_xticklabels(),\n",
    "    rotation=45,\n",
    "    horizontalalignment='right'\n",
    ");"
   ]
  },
  {
   "cell_type": "code",
   "execution_count": null,
   "metadata": {},
   "outputs": [],
   "source": [
    "pokemon[\"Type 2\"] = pokemon[\"Type 2\"].fillna(\"None\")\n",
    "type_cross = pd.crosstab(pokemon[\"Type 1\"], pokemon[\"Type 2\"])\n",
    "type_cross.plot.bar(stacked=True, figsize=(14,4))\n",
    "plt.legend(bbox_to_anchor=(0.01, 0.99), loc='upper left', ncol=5, fontsize=8, title=\"Type 2\")\n",
    "plt.show()"
   ]
  },
  {
   "cell_type": "code",
   "execution_count": null,
   "metadata": {},
   "outputs": [],
   "source": [
    "# calculate the win % of each pokemon \n",
    "# add the calculation to the pokemon dataset \n",
    "total_Wins = combats.Winner.value_counts()\n",
    "# get the number of wins for each pokemon\n",
    "numberOfWins = combats.groupby('Winner').count()\n",
    "print(total_Wins)\n",
    "print(\"--------------------------------------------------------------------------\")\n",
    "print(numberOfWins)"
   ]
  },
  {
   "cell_type": "code",
   "execution_count": null,
   "metadata": {},
   "outputs": [],
   "source": [
    "#both methods produce the same results\n",
    "countByFirst = combats.groupby('Second_pokemon').count()\n",
    "countBySecond = combats.groupby('First_pokemon').count()\n",
    "print(\"Looking at the dimensions of our dataframes\")\n",
    "print(\"Count by first winner shape: \" + str(countByFirst.shape))\n",
    "print(\"Count by second winner shape: \" + str(countBySecond.shape))\n",
    "print(\"Total Wins shape : \" + str(total_Wins.shape))"
   ]
  },
  {
   "cell_type": "code",
   "execution_count": null,
   "metadata": {},
   "outputs": [],
   "source": [
    "find_losing_pokemon= np.setdiff1d(countByFirst.index.values, numberOfWins.index.values)-1\n",
    "losing_pokemon = pokemon.iloc[find_losing_pokemon[0],]\n",
    "print(losing_pokemon)"
   ]
  },
  {
   "cell_type": "code",
   "execution_count": null,
   "metadata": {},
   "outputs": [],
   "source": [
    "numberOfWins = numberOfWins.sort_index()\n",
    "numberOfWins['Total Fights'] = countByFirst.Winner + countBySecond.Winner\n",
    "numberOfWins['Win Percentage']= numberOfWins.First_pokemon/numberOfWins['Total Fights']\n",
    "\n",
    "# merge the winning dataset and the original pokemon dataset\n",
    "results2 = pd.merge(pokemon, numberOfWins, right_index = True, left_on=\"Pokemon Number\")\n",
    "results3 = pd.merge(pokemon, numberOfWins, left_on=\"Pokemon Number\", right_index = True, how='left')\n",
    "\n",
    "# We can look at the difference between the two datasets to see which pokemon never recorded a fight\n",
    "#missing_Pokemon = np.setdiff1d(pokemon.index.values, results3.index.values)\n",
    "#subset the dataframe where pokemon win percent is NaN\n",
    "Win_Percent = results3[results3['Win Percentage'].isnull()]\n",
    "Win_Percent"
   ]
  },
  {
   "cell_type": "code",
   "execution_count": null,
   "metadata": {},
   "outputs": [],
   "source": [
    "Win_Percent_Type = results3.groupby('Type 1').agg({\"Win Percentage\": \"mean\"}).sort_values(by = \"Win Percentage\", ascending=False)\n",
    "Win_Percent_Type.head(5)"
   ]
  },
  {
   "cell_type": "code",
   "execution_count": null,
   "metadata": {},
   "outputs": [],
   "source": [
    "Win_Percent_Type.tail(5)"
   ]
  },
  {
   "cell_type": "code",
   "execution_count": null,
   "metadata": {},
   "outputs": [],
   "source": [
    "Total_Fights = results3.groupby('Type 1').agg({\"Total Fights\": \"mean\"}).sort_values(by = \"Total Fights\", ascending=False)\n",
    "Total_Fights.head(5)"
   ]
  },
  {
   "cell_type": "code",
   "execution_count": null,
   "metadata": {},
   "outputs": [],
   "source": [
    "Total_Fights.tail(5)"
   ]
  },
  {
   "cell_type": "code",
   "execution_count": null,
   "metadata": {},
   "outputs": [],
   "source": [
    "Win_Percent.columns"
   ]
  },
  {
   "cell_type": "code",
   "execution_count": null,
   "metadata": {},
   "outputs": [],
   "source": [
    "Win_Corr = Win_Percent.drop(columns=['Pokemon Number','Generation','Legendary','First_pokemon','Second_pokemon','Total Fights'])\n",
    "Win_Corr.corr()\n",
    "\n",
    "#correlation map\n",
    "corr = Win_Corr.corr()\n",
    "ax = sns.heatmap(\n",
    "    corr, \n",
    "    vmin=-1, vmax=1, center=0,\n",
    "    cmap=sns.diverging_palette(20, 220, n=200),\n",
    "    square=True\n",
    ")\n",
    "ax.set_xticklabels(\n",
    "    ax.get_xticklabels(),\n",
    "    rotation=45,\n",
    "    horizontalalignment='right');"
   ]
  },
  {
   "cell_type": "code",
   "execution_count": null,
   "metadata": {},
   "outputs": [],
   "source": [
    "names_dict = dict(zip(pokemon['Pokemon Number'], pokemon['Name']))\n",
    "cols = [\"First_pokemon\",\"Second_pokemon\",\"Winner\"]\n",
    "combats_name = combats[cols].replace(names_dict)\n",
    "combats = combats_name\n",
    "combats"
   ]
  },
  {
   "cell_type": "code",
   "execution_count": null,
   "metadata": {},
   "outputs": [],
   "source": []
  },
  {
   "cell_type": "code",
   "execution_count": null,
   "metadata": {},
   "outputs": [],
   "source": []
  },
  {
   "cell_type": "code",
   "execution_count": null,
   "metadata": {},
   "outputs": [],
   "source": []
  }
 ],
 "metadata": {
  "kernelspec": {
   "display_name": "Python 3",
   "language": "python",
   "name": "python3"
  },
  "language_info": {
   "codemirror_mode": {
    "name": "ipython",
    "version": 3
   },
   "file_extension": ".py",
   "mimetype": "text/x-python",
   "name": "python",
   "nbconvert_exporter": "python",
   "pygments_lexer": "ipython3",
   "version": "3.7.4"
  }
 },
 "nbformat": 4,
 "nbformat_minor": 2
}
